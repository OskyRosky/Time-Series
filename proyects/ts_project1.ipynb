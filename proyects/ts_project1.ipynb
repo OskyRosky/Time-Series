{
 "cells": [
  {
   "cell_type": "markdown",
   "metadata": {},
   "source": [
    "# TS\n",
    "## Project 1: kforecast: time series forecasting with Python, Machine Learning and Scikit-learn\n",
    "\n",
    "https://cienciadedatos.net/documentos/py27-time-series-forecasting-python-scikitlearn.html"
   ]
  },
  {
   "cell_type": "code",
   "execution_count": null,
   "metadata": {},
   "outputs": [],
   "source": [
    "# Data manipulation\n",
    "# ==============================================================================\n",
    "import numpy as np\n",
    "import pandas as pd\n",
    "from skforecast.datasets import fetch_dataset\n",
    "\n",
    "# Plots\n",
    "# ==============================================================================\n",
    "import matplotlib.pyplot as plt\n",
    "plt.style.use('fivethirtyeight')\n",
    "plt.rcParams['lines.linewidth'] = 1.5\n",
    "plt.rcParams['font.size'] = 10\n",
    "\n",
    "# Modeling and Forecasting\n",
    "# ==============================================================================\n",
    "import sklearn\n",
    "from sklearn.linear_model import Ridge\n",
    "from sklearn.ensemble import RandomForestRegressor\n",
    "from sklearn.metrics import mean_squared_error\n",
    "from sklearn.metrics import mean_absolute_error\n",
    "from sklearn.preprocessing import StandardScaler\n",
    "import skforecast\n",
    "from skforecast.recursive import ForecasterRecursive\n",
    "from skforecast.direct import ForecasterDirect\n",
    "from skforecast.model_selection import TimeSeriesFold\n",
    "from skforecast.model_selection import grid_search_forecaster\n",
    "from skforecast.model_selection import backtesting_forecaster\n",
    "from skforecast.preprocessing import RollingFeatures\n",
    "from skforecast.utils import save_forecaster\n",
    "from skforecast.utils import load_forecaster\n",
    "import shap\n",
    "\n",
    "# Warnings configuration\n",
    "# ==============================================================================\n",
    "import warnings\n",
    "warnings.filterwarnings('once')\n",
    "\n",
    "color = '\\033[1m\\033[38;5;208m' \n",
    "print(f\"{color}Version skforecast: {skforecast.__version__}\")\n",
    "print(f\"{color}Version scikit-learn: {sklearn.__version__}\")\n",
    "print(f\"{color}Version pandas: {pd.__version__}\")\n",
    "print(f\"{color}Version numpy: {np.__version__}\")"
   ]
  },
  {
   "cell_type": "code",
   "execution_count": null,
   "metadata": {},
   "outputs": [],
   "source": [
    "# Data download\n",
    "# ==============================================================================\n",
    "data = fetch_dataset(name='h2o_exog', raw=True)"
   ]
  },
  {
   "cell_type": "code",
   "execution_count": null,
   "metadata": {},
   "outputs": [],
   "source": [
    "# Data preparation\n",
    "# ==============================================================================\n",
    "data = data.rename(columns={'fecha': 'date'})\n",
    "data['date'] = pd.to_datetime(data['date'], format='%Y-%m-%d')\n",
    "data = data.set_index('date')\n",
    "data = data.asfreq('MS')\n",
    "data = data.sort_index()\n",
    "data.head()"
   ]
  },
  {
   "cell_type": "code",
   "execution_count": null,
   "metadata": {},
   "outputs": [],
   "source": [
    "# Missing values\n",
    "# ==============================================================================\n",
    "print(f'Number of rows with missing values: {data.isnull().any(axis=1).mean()}')"
   ]
  },
  {
   "cell_type": "code",
   "execution_count": null,
   "metadata": {},
   "outputs": [],
   "source": [
    "# Verify that a temporary index is complete\n",
    "# ==============================================================================\n",
    "start_date = data.index.min()\n",
    "end_date = data.index.max()\n",
    "complete_date_range = pd.date_range(start=start_date, end=end_date, freq=data.index.freq)\n",
    "is_index_complete = (data.index == complete_date_range).all()\n",
    "print(f\"Index complete: {is_index_complete}\")\n",
    "\n",
    "# Fill gaps in a temporary index\n",
    "# ==============================================================================\n",
    "# data.asfreq(freq='30min', fill_value=np.nan)"
   ]
  },
  {
   "cell_type": "code",
   "execution_count": null,
   "metadata": {},
   "outputs": [],
   "source": [
    "# Split data into train-test\n",
    "# ==============================================================================\n",
    "steps = 36\n",
    "data_train = data[:-steps]\n",
    "data_test  = data[-steps:]\n",
    "print(\n",
    "    f\"Train dates : {data_train.index.min()} --- \"\n",
    "    f\"{data_train.index.max()}  (n={len(data_train)})\"\n",
    ")\n",
    "print(\n",
    "    f\"Test dates  : {data_test.index.min()} --- \"\n",
    "    f\"{data_test.index.max()}  (n={len(data_test)})\"\n",
    ")\n",
    "\n",
    "fig, ax = plt.subplots(figsize=(6, 2.5))\n",
    "data_train['y'].plot(ax=ax, label='train')\n",
    "data_test['y'].plot(ax=ax, label='test')\n",
    "ax.legend();"
   ]
  },
  {
   "cell_type": "code",
   "execution_count": null,
   "metadata": {},
   "outputs": [],
   "source": [
    "# Create and train forecaster\n",
    "# ==============================================================================\n",
    "forecaster = ForecasterRecursive(\n",
    "                 regressor = RandomForestRegressor(random_state=123),\n",
    "                 lags      = 6\n",
    "             )\n",
    "forecaster.fit(y=data_train['y'])\n",
    "forecaster"
   ]
  },
  {
   "cell_type": "code",
   "execution_count": null,
   "metadata": {},
   "outputs": [],
   "source": [
    "# Predictions\n",
    "# ==============================================================================\n",
    "steps = 36\n",
    "predictions = forecaster.predict(steps=steps)\n",
    "predictions.head(5)"
   ]
  },
  {
   "cell_type": "code",
   "execution_count": null,
   "metadata": {},
   "outputs": [],
   "source": [
    "# Plot predictions versus test data\n",
    "# ==============================================================================\n",
    "fig, ax = plt.subplots(figsize=(6, 2.5))\n",
    "data_train['y'].plot(ax=ax, label='train')\n",
    "data_test['y'].plot(ax=ax, label='test')\n",
    "predictions.plot(ax=ax, label='predictions')\n",
    "ax.legend();"
   ]
  },
  {
   "cell_type": "code",
   "execution_count": null,
   "metadata": {},
   "outputs": [],
   "source": [
    "# Test error\n",
    "# ==============================================================================\n",
    "error_mse = mean_squared_error(\n",
    "                y_true = data_test['y'],\n",
    "                y_pred = predictions\n",
    "            )\n",
    "print(f\"Test error (MSE): {error_mse}\")"
   ]
  },
  {
   "cell_type": "code",
   "execution_count": null,
   "metadata": {},
   "outputs": [],
   "source": [
    "# Hyperparameters: grid search\n",
    "# ==============================================================================\n",
    "forecaster = ForecasterRecursive(\n",
    "                 regressor = RandomForestRegressor(random_state=123),\n",
    "                 lags      = 12 # This value will be replaced in the grid search\n",
    "             )\n",
    "\n",
    "# Training and validation folds\n",
    "cv = TimeSeriesFold(\n",
    "      steps              = 36,\n",
    "      initial_train_size = int(len(data_train) * 0.5),\n",
    "      refit              = False,\n",
    "      fixed_train_size   = False,\n",
    "\n",
    "    )\n",
    "\n",
    "# Candidate values for lags\n",
    "lags_grid = [10, 20]\n",
    "\n",
    "# Candidate values for regressor's hyperparameters\n",
    "param_grid = {\n",
    "    'n_estimators': [100, 250],\n",
    "    'max_depth': [3, 8]\n",
    "}\n",
    "\n",
    "results_grid = grid_search_forecaster(\n",
    "                    forecaster  = forecaster,\n",
    "                    y           = data_train['y'],\n",
    "                    cv          = cv,\n",
    "                    param_grid  = param_grid,\n",
    "                    lags_grid   = lags_grid,\n",
    "                    metric      = 'mean_squared_error',  \n",
    "                    return_best = True,\n",
    "                    n_jobs      = 'auto',\n",
    "                    verbose     = False\n",
    "                )"
   ]
  },
  {
   "cell_type": "code",
   "execution_count": null,
   "metadata": {},
   "outputs": [],
   "source": [
    "# Search results\n",
    "# ==============================================================================\n",
    "results_grid"
   ]
  },
  {
   "cell_type": "code",
   "execution_count": null,
   "metadata": {},
   "outputs": [],
   "source": [
    "# Create and train forecaster with the best hyperparameters and lags found\n",
    "# ==============================================================================\n",
    "regressor = RandomForestRegressor(n_estimators=250, max_depth=3, random_state=123)\n",
    "forecaster = ForecasterRecursive(\n",
    "                 regressor = regressor,\n",
    "                 lags      = 20\n",
    "             )\n",
    "forecaster.fit(y=data_train['y'])"
   ]
  },
  {
   "cell_type": "code",
   "execution_count": null,
   "metadata": {},
   "outputs": [],
   "source": [
    "# Predictions\n",
    "# ==============================================================================\n",
    "predictions = forecaster.predict(steps=steps)"
   ]
  },
  {
   "cell_type": "code",
   "execution_count": null,
   "metadata": {},
   "outputs": [],
   "source": [
    "# Plot predictions versus test data\n",
    "# ==============================================================================\n",
    "fig, ax = plt.subplots(figsize=(6, 2.5))\n",
    "data_train['y'].plot(ax=ax, label='train')\n",
    "data_test['y'].plot(ax=ax, label='test')\n",
    "predictions.plot(ax=ax, label='predictions')\n",
    "ax.legend();"
   ]
  },
  {
   "cell_type": "code",
   "execution_count": null,
   "metadata": {},
   "outputs": [],
   "source": [
    "# Test error\n",
    "# ==============================================================================\n",
    "error_mse = mean_squared_error(\n",
    "                y_true = data_test['y'],\n",
    "                y_pred = predictions\n",
    "            )\n",
    "print(f\"Test error (MSE): {error_mse}\")"
   ]
  },
  {
   "cell_type": "code",
   "execution_count": null,
   "metadata": {},
   "outputs": [],
   "source": [
    "# Backtesting\n",
    "# ==============================================================================\n",
    "cv = TimeSeriesFold(\n",
    "         steps              = 12 * 3, \n",
    "         initial_train_size = len(data) - 12 * 9,  # Last 9 years are separated for the backtest\n",
    "         fixed_train_size   = False,\n",
    "         refit              = True,\n",
    ")\n",
    "metric, predictions_backtest = backtesting_forecaster(\n",
    "                                    forecaster = forecaster,\n",
    "                                    y          = data['y'],\n",
    "                                    cv         = cv,\n",
    "                                    metric     = 'mean_squared_error',\n",
    "                                    verbose    = True\n",
    "                                )\n",
    "metric"
   ]
  },
  {
   "cell_type": "code",
   "execution_count": null,
   "metadata": {},
   "outputs": [],
   "source": [
    "# Extract feature importance\n",
    "# ==============================================================================\n",
    "importance = forecaster.get_feature_importances()\n",
    "importance.head(10)"
   ]
  },
  {
   "cell_type": "code",
   "execution_count": null,
   "metadata": {},
   "outputs": [],
   "source": [
    "# Extract feature importance\n",
    "# ==============================================================================\n",
    "importance = forecaster.get_feature_importances()\n",
    "importance.head(10)"
   ]
  },
  {
   "cell_type": "code",
   "execution_count": null,
   "metadata": {},
   "outputs": [],
   "source": [
    "# Data download\n",
    "# ==============================================================================\n",
    "data = fetch_dataset(name='h2o_exog', raw=True, verbose=False)\n",
    "# Data preparation\n",
    "# ==============================================================================\n",
    "data = data.rename(columns={'fecha': 'date'})\n",
    "data['date'] = pd.to_datetime(data['date'], format='%Y-%m-%d')\n",
    "data = data.set_index('date')\n",
    "data = data.asfreq('MS')\n",
    "data = data.sort_index()\n",
    "\n",
    "fig, ax = plt.subplots(figsize=(6, 2.7))\n",
    "data['y'].plot(ax=ax, label='y')\n",
    "data['exog_1'].plot(ax=ax, label='exogenous variable')\n",
    "ax.legend(loc='upper left');"
   ]
  },
  {
   "cell_type": "code",
   "execution_count": null,
   "metadata": {},
   "outputs": [],
   "source": [
    "# Split data into train-test\n",
    "# ==============================================================================\n",
    "steps = 36\n",
    "data_train = data[:-steps]\n",
    "data_test  = data[-steps:]\n",
    "print(\n",
    "    f\"Train dates : {data_train.index.min()} --- \"\n",
    "    f\"{data_train.index.max()}  (n={len(data_train)})\"\n",
    ")\n",
    "print(\n",
    "    f\"Test dates  : {data_test.index.min()} --- \"\n",
    "    f\"{data_test.index.max()}  (n={len(data_test)})\""
   ]
  },
  {
   "cell_type": "code",
   "execution_count": null,
   "metadata": {},
   "outputs": [],
   "source": [
    "# Create and train forecaster\n",
    "# ==============================================================================\n",
    "forecaster = ForecasterRecursive(\n",
    "                 regressor = RandomForestRegressor(random_state=123),\n",
    "                 lags      = 8\n",
    "             )\n",
    "forecaster.fit(y=data_train['y'], exog=data_train['exog_1'])\n",
    "forecaster"
   ]
  },
  {
   "cell_type": "code",
   "execution_count": null,
   "metadata": {},
   "outputs": [],
   "source": [
    "# Predictions\n",
    "# ==============================================================================\n",
    "predictions = forecaster.predict(steps=steps, exog=data_test['exog_1'])"
   ]
  },
  {
   "cell_type": "code",
   "execution_count": null,
   "metadata": {},
   "outputs": [],
   "source": [
    "# Plot\n",
    "# ==============================================================================\n",
    "fig, ax = plt.subplots(figsize=(6, 2.5))\n",
    "data_train['y'].plot(ax=ax, label='train')\n",
    "data_test['y'].plot(ax=ax, label='test')\n",
    "predictions.plot(ax=ax, label='predictions')\n",
    "ax.legend();"
   ]
  },
  {
   "cell_type": "code",
   "execution_count": null,
   "metadata": {},
   "outputs": [],
   "source": [
    "# Test error\n",
    "# ==============================================================================\n",
    "error_mse = mean_squared_error(\n",
    "                y_true = data_test['y'],\n",
    "                y_pred = predictions\n",
    "            )\n",
    "print(f\"Test error (MSE): {error_mse}\")"
   ]
  },
  {
   "cell_type": "code",
   "execution_count": null,
   "metadata": {},
   "outputs": [],
   "source": [
    "# Data download\n",
    "# ==============================================================================\n",
    "data = fetch_dataset(name='h2o_exog', raw=True, verbose=False)\n",
    "\n",
    "# Data preparation\n",
    "# ==============================================================================\n",
    "data = data.rename(columns={'fecha': 'date'})\n",
    "data['date'] = pd.to_datetime(data['date'], format='%Y-%m-%d')\n",
    "data = data.set_index('date')\n",
    "data = data.asfreq('MS')\n",
    "data = data.sort_index()\n",
    "\n",
    "# Split data into train-test\n",
    "# ==============================================================================\n",
    "steps = 36\n",
    "data_train = data[:-steps]\n",
    "data_test  = data[-steps:]\n",
    "print(f\"Train dates : {data_train.index.min()} --- {data_train.index.max()}  (n={len(data_train)})\")\n",
    "print(f\"Test dates  : {data_test.index.min()} --- {data_test.index.max()}  (n={len(data_test)})\")"
   ]
  },
  {
   "cell_type": "code",
   "execution_count": null,
   "metadata": {},
   "outputs": [],
   "source": [
    "# Window features\n",
    "# ==============================================================================\n",
    "window_features = RollingFeatures(\n",
    "    stats = ['mean', 'std', 'min', 'max'],\n",
    "    window_sizes = 20\n",
    ")"
   ]
  },
  {
   "cell_type": "code",
   "execution_count": null,
   "metadata": {},
   "outputs": [],
   "source": [
    "# Create and train forecaster\n",
    "# ==============================================================================\n",
    "forecaster = ForecasterRecursive(\n",
    "                regressor       = RandomForestRegressor(random_state=123),\n",
    "                lags            = 10,\n",
    "                window_features = window_features,\n",
    "             )\n",
    "forecaster.fit(y=data_train['y'])\n",
    "forecaster"
   ]
  }
 ],
 "metadata": {
  "language_info": {
   "name": "python"
  }
 },
 "nbformat": 4,
 "nbformat_minor": 2
}
